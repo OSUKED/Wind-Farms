{
 "cells": [
  {
   "cell_type": "code",
   "execution_count": 2,
   "id": "written-pride",
   "metadata": {},
   "outputs": [],
   "source": [
    "# default_exp initialisation"
   ]
  },
  {
   "cell_type": "markdown",
   "id": "double-processing",
   "metadata": {},
   "source": [
    "# Initialisation\n",
    "\n",
    "<br>\n",
    "\n",
    "### Imports"
   ]
  },
  {
   "cell_type": "code",
   "execution_count": 21,
   "id": "mexican-value",
   "metadata": {},
   "outputs": [],
   "source": [
    "#exports\n",
    "import json\n",
    "import numpy as np\n",
    "import pandas as pd"
   ]
  },
  {
   "cell_type": "code",
   "execution_count": 4,
   "id": "senior-finance",
   "metadata": {},
   "outputs": [],
   "source": [
    "from IPython.display import JSON"
   ]
  },
  {
   "cell_type": "markdown",
   "id": "refined-suite",
   "metadata": {},
   "source": [
    "<br>\n",
    "\n",
    "### User Inputs"
   ]
  },
  {
   "cell_type": "code",
   "execution_count": 58,
   "id": "documented-manner",
   "metadata": {},
   "outputs": [],
   "source": [
    "raw_data_dir = '../data/raw'\n",
    "wind_farms_dir = '../data/endpoints/wind_farms'"
   ]
  },
  {
   "cell_type": "code",
   "execution_count": null,
   "id": "champion-chaos",
   "metadata": {},
   "outputs": [],
   "source": []
  },
  {
   "cell_type": "code",
   "execution_count": 7,
   "id": "understood-dancing",
   "metadata": {},
   "outputs": [
    {
     "data": {
      "text/html": [
       "<div>\n",
       "<style scoped>\n",
       "    .dataframe tbody tr th:only-of-type {\n",
       "        vertical-align: middle;\n",
       "    }\n",
       "\n",
       "    .dataframe tbody tr th {\n",
       "        vertical-align: top;\n",
       "    }\n",
       "\n",
       "    .dataframe thead th {\n",
       "        text-align: right;\n",
       "    }\n",
       "</style>\n",
       "<table border=\"1\" class=\"dataframe\">\n",
       "  <thead>\n",
       "    <tr style=\"text-align: right;\">\n",
       "      <th></th>\n",
       "      <th>esail_id</th>\n",
       "      <th>gppd_idnr</th>\n",
       "      <th>name</th>\n",
       "      <th>sett_bmu_id</th>\n",
       "      <th>longitude</th>\n",
       "      <th>latitude</th>\n",
       "      <th>fuel_type</th>\n",
       "      <th>capacity_mw</th>\n",
       "    </tr>\n",
       "    <tr>\n",
       "      <th>osuked_id</th>\n",
       "      <th></th>\n",
       "      <th></th>\n",
       "      <th></th>\n",
       "      <th></th>\n",
       "      <th></th>\n",
       "      <th></th>\n",
       "      <th></th>\n",
       "      <th></th>\n",
       "    </tr>\n",
       "  </thead>\n",
       "  <tbody>\n",
       "    <tr>\n",
       "      <th>10000</th>\n",
       "      <td>MARK</td>\n",
       "      <td>NaN</td>\n",
       "      <td>Rothes Bio-Plant CHP</td>\n",
       "      <td>E_MARK-1, E_MARK-2</td>\n",
       "      <td>-3.603516</td>\n",
       "      <td>57.480403</td>\n",
       "      <td>biomass</td>\n",
       "      <td>NaN</td>\n",
       "    </tr>\n",
       "    <tr>\n",
       "      <th>10001</th>\n",
       "      <td>DIDC</td>\n",
       "      <td>NaN</td>\n",
       "      <td>Didcot A (G)</td>\n",
       "      <td>T_DIDC1, T_DIDC2, T_DIDC4, T_DIDC3</td>\n",
       "      <td>-1.267570</td>\n",
       "      <td>51.623630</td>\n",
       "      <td>coal</td>\n",
       "      <td>NaN</td>\n",
       "    </tr>\n",
       "    <tr>\n",
       "      <th>10002</th>\n",
       "      <td>ABTH</td>\n",
       "      <td>GBR1000374</td>\n",
       "      <td>Aberthaw B</td>\n",
       "      <td>T_ABTH7, T_ABTH8, T_ABTH9</td>\n",
       "      <td>-3.404866</td>\n",
       "      <td>51.387312</td>\n",
       "      <td>coal</td>\n",
       "      <td>1586.0</td>\n",
       "    </tr>\n",
       "    <tr>\n",
       "      <th>10003</th>\n",
       "      <td>COTPS</td>\n",
       "      <td>GBR1000142</td>\n",
       "      <td>Cottam</td>\n",
       "      <td>T_COTPS-1, T_COTPS-2, T_COTPS-3, T_COTPS-4</td>\n",
       "      <td>-0.648193</td>\n",
       "      <td>53.245495</td>\n",
       "      <td>coal</td>\n",
       "      <td>2008.0</td>\n",
       "    </tr>\n",
       "    <tr>\n",
       "      <th>10004</th>\n",
       "      <td>DRAXX</td>\n",
       "      <td>GBR0000174</td>\n",
       "      <td>Drax</td>\n",
       "      <td>T_DRAXX-1, T_DRAXX-2, T_DRAXX-3, T_DRAXX-4, T_...</td>\n",
       "      <td>-0.626221</td>\n",
       "      <td>53.748711</td>\n",
       "      <td>coal, biomass</td>\n",
       "      <td>1980.0</td>\n",
       "    </tr>\n",
       "  </tbody>\n",
       "</table>\n",
       "</div>"
      ],
      "text/plain": [
       "          esail_id   gppd_idnr                  name  \\\n",
       "osuked_id                                              \n",
       "10000         MARK         NaN  Rothes Bio-Plant CHP   \n",
       "10001         DIDC         NaN          Didcot A (G)   \n",
       "10002         ABTH  GBR1000374            Aberthaw B   \n",
       "10003        COTPS  GBR1000142                Cottam   \n",
       "10004        DRAXX  GBR0000174                  Drax   \n",
       "\n",
       "                                                 sett_bmu_id  longitude  \\\n",
       "osuked_id                                                                 \n",
       "10000                                     E_MARK-1, E_MARK-2  -3.603516   \n",
       "10001                     T_DIDC1, T_DIDC2, T_DIDC4, T_DIDC3  -1.267570   \n",
       "10002                              T_ABTH7, T_ABTH8, T_ABTH9  -3.404866   \n",
       "10003             T_COTPS-1, T_COTPS-2, T_COTPS-3, T_COTPS-4  -0.648193   \n",
       "10004      T_DRAXX-1, T_DRAXX-2, T_DRAXX-3, T_DRAXX-4, T_...  -0.626221   \n",
       "\n",
       "            latitude      fuel_type  capacity_mw  \n",
       "osuked_id                                         \n",
       "10000      57.480403        biomass          NaN  \n",
       "10001      51.623630           coal          NaN  \n",
       "10002      51.387312           coal       1586.0  \n",
       "10003      53.245495           coal       2008.0  \n",
       "10004      53.748711  coal, biomass       1980.0  "
      ]
     },
     "execution_count": 7,
     "metadata": {},
     "output_type": "execute_result"
    }
   ],
   "source": [
    "df_power_dict = pd.read_csv(f'{raw_data_dir}/power_dict.csv', index_col='osuked_id')\n",
    "\n",
    "df_power_dict.head()"
   ]
  },
  {
   "cell_type": "markdown",
   "id": "weird-corporation",
   "metadata": {},
   "source": [
    "<br>\n",
    "\n",
    "### Cleaning Data"
   ]
  },
  {
   "cell_type": "code",
   "execution_count": 57,
   "id": "sorted-assurance",
   "metadata": {},
   "outputs": [
    {
     "data": {
      "application/json": [
       {
        "10147": {
         "capacity_mw": 42.6,
         "esail_id": "ACHRW",
         "fuel_type": "wind",
         "gppd_idnr": "GBR0004331",
         "latitude": 56.34286,
         "longitude": -5.393722,
         "name": "AChruach Wind Farm",
         "sett_bmu_id": [
          "T_ACHRW-1"
         ]
        },
        "10148": {
         "capacity_mw": 60.8,
         "esail_id": "AKGLW",
         "fuel_type": "wind",
         "gppd_idnr": "GBR0004332",
         "latitude": 55.923317,
         "longitude": -2.492993,
         "name": "Aikengall 2 Wind Farm Generation",
         "sett_bmu_id": [
          "T_AKGLW-2"
         ]
        },
        "10149": {
         "esail_id": "AIRSW",
         "fuel_type": "wind",
         "latitude": 54.970896,
         "longitude": -4.713441,
         "name": "Airies Windfarm",
         "sett_bmu_id": [
          "E_AIRSW-1"
         ]
        },
        "10150": {
         "esail_id": "ASHWW",
         "fuel_type": "wind",
         "latitude": 55.51487,
         "longitude": -3.814161,
         "name": "Andershaw Wind Farm",
         "sett_bmu_id": [
          "E_ASHWW-1"
         ]
        },
        "10151": {
         "esail_id": "ANSUW",
         "fuel_type": "wind",
         "latitude": 56.065903000000006,
         "longitude": -5.449219,
         "name": "An Suidhe Windfarm",
         "sett_bmu_id": [
          "T_ANSUW-1"
         ]
        },
        "10152": {
         "capacity_mw": 120,
         "esail_id": "ARCHW",
         "fuel_type": "wind",
         "gppd_idnr": "GBR0003258",
         "latitude": 55.14121,
         "longitude": -4.63623,
         "name": "Arecleoch Windfarm",
         "sett_bmu_id": [
          "T_ARCHW-1"
         ]
        },
        "10153": {
         "esail_id": "ASLVW",
         "fuel_type": "wind",
         "latitude": 55.222814,
         "longitude": -4.825652,
         "name": "Assel Valley Wind Farm",
         "sett_bmu_id": [
          "E_ASLVW-1"
         ]
        },
        "10154": {
         "esail_id": "ABRTW",
         "fuel_type": "wind",
         "latitude": 55.621764,
         "longitude": -3.988675,
         "name": "Auchrobert Wind Farm",
         "sett_bmu_id": [
          "E_ABRTW-1"
         ]
        },
        "10155": {
         "capacity_mw": 52.5,
         "esail_id": "BABAW",
         "fuel_type": "wind",
         "gppd_idnr": "GBR0004021",
         "latitude": 58.430482,
         "longitude": -4.372559,
         "name": "Baillie Wind Farm",
         "sett_bmu_id": [
          "E_BABAW-1"
         ]
        },
        "10156": {
         "capacity_mw": 90,
         "esail_id": "BOWLW",
         "fuel_type": "wind",
         "gppd_idnr": "GBR0002546",
         "latitude": 53.983333,
         "longitude": -3.2833330000000003,
         "name": "Barrow Offshore Windfarm",
         "sett_bmu_id": [
          "T_BOWLW-1"
         ]
        },
        "10157": {
         "capacity_mw": 43.7,
         "esail_id": "BTUIW",
         "fuel_type": "wind",
         "gppd_idnr": "GBR0004525",
         "latitude": 55.683779,
         "longitude": -5.537109,
         "name": "Beinn An Tuirc 2 Windfarm",
         "sett_bmu_id": [
          "E_BTUIW-2"
         ]
        },
        "10158": {
         "capacity_mw": 85,
         "esail_id": "BEINW",
         "fuel_type": "wind",
         "gppd_idnr": "GBR0003787",
         "latitude": 57.17555556,
         "longitude": -4.789059,
         "name": "Beinneun Wind Farm",
         "sett_bmu_id": [
          "T_BEINW-1"
         ]
        },
        "10159": {
         "esail_id": "BETHW",
         "fuel_type": "wind",
         "latitude": 58.077876,
         "longitude": -4.42749,
         "name": "Beinn Tharsuinn",
         "sett_bmu_id": [
          "E_BETHW-1"
         ]
        },
        "10160": {
         "capacity_mw": 66.7,
         "esail_id": "BRYBW",
         "fuel_type": "wind",
         "gppd_idnr": "GBR0004261",
         "latitude": 57.36209,
         "longitude": -3.966064,
         "name": "Berry Burn Windfarm",
         "sett_bmu_id": [
          "E_BRYBW-1"
         ]
        },
        "10161": {
         "capacity_mw": 110,
         "esail_id": "BHLAW",
         "fuel_type": "wind",
         "gppd_idnr": "GBR0004640",
         "latitude": 57.22303,
         "longitude": -4.668919,
         "name": "Bhlaraidh Windfarm 1",
         "sett_bmu_id": [
          "T_BHLAW-1"
         ]
        },
        "10162": {
         "esail_id": "BLKWW",
         "fuel_type": "wind",
         "latitude": 55.117955,
         "longitude": -4.033976,
         "name": "Blackcraig Windfarm",
         "sett_bmu_id": [
          "T_BLKWW-1"
         ]
        },
        "10163": {
         "capacity_mw": 124.2,
         "esail_id": "BLLA1",
         "fuel_type": "wind",
         "gppd_idnr": "GBR0003116",
         "latitude": 55.590763,
         "longitude": -3.4826660000000005,
         "name": "Black Law Wind Farm",
         "sett_bmu_id": [
          "T_BLLA-1"
         ]
        },
        "10164": {
         "capacity_mw": 55.42,
         "esail_id": "BLLA2",
         "fuel_type": "wind",
         "gppd_idnr": "GBR0004253",
         "latitude": 55.590763,
         "longitude": -3.4826660000000005,
         "name": "Black Law Windfarm Extension",
         "sett_bmu_id": [
          "T_BLLA-2"
         ]
        },
        "10165": {
         "esail_id": "BODW",
         "fuel_type": "wind",
         "latitude": 55.131,
         "longitude": -1.401,
         "name": "Blyth Offshore Demonstrator Windfarm Generation",
         "sett_bmu_id": [
          "E_BODW-1"
         ]
        },
        "10166": {
         "capacity_mw": 72,
         "esail_id": "BRDUW",
         "fuel_type": "wind",
         "gppd_idnr": "GBR0003119",
         "latitude": 56.419978,
         "longitude": -3.361816,
         "name": "Braes of Doune",
         "sett_bmu_id": [
          "E_BRDUW-1"
         ]
        },
        "10167": {
         "capacity_mw": 61.5,
         "esail_id": "WISTW",
         "fuel_type": "wind",
         "gppd_idnr": "GBR0004431",
         "latitude": 55.25515600000001,
         "longitude": -4.141234,
         "name": "Brockloch Rig 2 Windfarm",
         "sett_bmu_id": [
          "T_WISTW-2"
         ]
        },
        "10168": {
         "esail_id": "BRNLW",
         "fuel_type": "wind",
         "latitude": 56.844014,
         "longitude": -2.3745580000000004,
         "name": "Brownieleys Windfarm",
         "sett_bmu_id": [
          "E_BRNLW-1"
         ]
        },
        "10169": {
         "capacity_mw": 90,
         "esail_id": "BURBO",
         "fuel_type": "wind",
         "gppd_idnr": "GBR0002487",
         "latitude": 53.487739000000005,
         "longitude": -3.19582,
         "name": "Burbo Bank Offshore Windfarm",
         "sett_bmu_id": [
          "E_BURBO"
         ]
        },
        "10170": {
         "capacity_mw": 258,
         "esail_id": "BRBEO",
         "fuel_type": "wind",
         "gppd_idnr": "GBR0002539",
         "latitude": 53.484,
         "longitude": -3.273,
         "name": "Burbo Bank Wind Farm Extension",
         "sett_bmu_id": [
          "T_BRBEO-1"
         ]
        },
        "10171": {
         "esail_id": "BNWKW",
         "fuel_type": "wind",
         "latitude": 58.351973,
         "longitude": -3.21433,
         "name": "Burn of Whilk Windfarm",
         "sett_bmu_id": [
          "E_BNWKW-1"
         ]
        },
        "10172": {
         "capacity_mw": 41.4,
         "esail_id": "PSTAT001",
         "fuel_type": "wind",
         "gppd_idnr": "GBR0003951",
         "latitude": 57.504968000000005,
         "longitude": -3.063895,
         "name": "Cairn Uish / Rothes Windfarm Extension",
         "sett_bmu_id": [
          "2__PSTAT001"
         ]
        },
        "10173": {
         "capacity_mw": 50,
         "esail_id": "PPGEN003",
         "fuel_type": "wind",
         "gppd_idnr": "GBR0004006",
         "latitude": 58.406935,
         "longitude": -3.2701290000000003,
         "name": "Camster Wind Farm",
         "sett_bmu_id": [
          "2__PPGEN003"
         ]
        },
        "10174": {
         "capacity_mw": 46,
         "esail_id": "CRGHW",
         "fuel_type": "wind",
         "gppd_idnr": "GBR0004619",
         "latitude": 56.389584,
         "longitude": -4.790039,
         "name": "Carraig Gheal Wind Farm",
         "sett_bmu_id": [
          "T_CRGHW-1"
         ]
        },
        "10175": {
         "esail_id": "CLFLW",
         "fuel_type": "wind",
         "latitude": 56.283062,
         "longitude": -4.957855,
         "name": "Clachan Flats Windfarm",
         "sett_bmu_id": [
          "E_CLFLW-1"
         ]
        },
        "10176": {
         "capacity_mw": 36.9,
         "esail_id": "CLDRW",
         "fuel_type": "wind",
         "gppd_idnr": "GBR0004623",
         "latitude": 57.308724,
         "longitude": -2.9223630000000003,
         "name": "Clashindarroch Wind Farm",
         "sett_bmu_id": [
          "E_CLDRW-1"
         ]
        },
        "10177": {
         "capacity_mw": 522,
         "esail_id": "CLDW",
         "fuel_type": "wind",
         "gppd_idnr": "GBR0004178",
         "latitude": 55.310391,
         "longitude": -3.35083,
         "name": "Clyde Central Windfarm, Clyde North Windfarm, Clyde South Windfarm",
         "sett_bmu_id": [
          "T_CLDCW-1",
          "T_CLDNW-1",
          "T_CLDSW-1"
         ]
        },
        "10178": {
         "capacity_mw": 69,
         "esail_id": "CGTHW",
         "fuel_type": "wind",
         "gppd_idnr": "GBR0004664",
         "latitude": 57.190085,
         "longitude": -4.359638,
         "name": "Corriegarth Wind Farm",
         "sett_bmu_id": [
          "T_CGTHW-1"
         ]
        },
        "10179": {
         "capacity_mw": 47.5,
         "esail_id": "CRMLW",
         "fuel_type": "wind",
         "gppd_idnr": "GBR0004120",
         "latitude": 57.694245,
         "longitude": -4.838531,
         "name": "Corriemoillie Wind Farm",
         "sett_bmu_id": [
          "T_CRMLW-1"
         ]
        },
        "10180": {
         "esail_id": "COUWW",
         "fuel_type": "wind",
         "latitude": 55.680679000000005,
         "longitude": -5.484929,
         "name": "Cour Wind Farm",
         "sett_bmu_id": [
          "T_COUWW-1"
         ]
        },
        "10181": {
         "capacity_mw": 13.8,
         "esail_id": "CRYRW3",
         "fuel_type": "wind",
         "gppd_idnr": "GBR0004215",
         "latitude": 55.893796,
         "longitude": -2.39502,
         "name": "Crystal Rig III Wind Farm",
         "sett_bmu_id": [
          "T_CRYRW-3"
         ]
        },
        "10182": {
         "capacity_mw": 138,
         "esail_id": "CRYRW2",
         "fuel_type": "wind",
         "gppd_idnr": "GBR0003440",
         "latitude": 55.893796,
         "longitude": -2.39502,
         "name": "Crystal Rig Wind Farm - Phase 2",
         "sett_bmu_id": [
          "T_CRYRW-2"
         ]
        },
        "10183": {
         "esail_id": "DALSW",
         "fuel_type": "wind",
         "latitude": 55.183662,
         "longitude": -3.662819,
         "name": "Dalswinton Wind Farm",
         "sett_bmu_id": [
          "E_DALSW-1"
         ]
        },
        "10184": {
         "capacity_mw": 69,
         "esail_id": "DRSLW",
         "fuel_type": "wind",
         "gppd_idnr": "GBR0004269",
         "latitude": 55.311291,
         "longitude": -4.484173,
         "name": "Dersalloch Windfarm",
         "sett_bmu_id": [
          "T_DRSLW-1"
         ]
        },
        "10185": {
         "esail_id": "DDGNO",
         "fuel_type": "wind",
         "latitude": 53.249,
         "longitude": 1.39,
         "name": "Dudgeon Offshore Wind Farm Generator",
         "sett_bmu_id": [
          "T_DDGNO-1",
          "T_DDGNO-2",
          "T_DDGNO-3",
          "T_DDGNO-4"
         ]
        },
        "10186": {
         "esail_id": "DNLWW",
         "fuel_type": "wind",
         "latitude": 55.776573,
         "longitude": -2.296143,
         "name": "Dun Law Extension Windfarm",
         "sett_bmu_id": [
          "T_DNLWW-1"
         ]
        },
        "10187": {
         "esail_id": "DUNGW",
         "fuel_type": "wind",
         "latitude": 57.25148000000001,
         "longitude": -4.255802,
         "name": "Dunmglass Wind Farm",
         "sett_bmu_id": [
          "T_DUNGW-1"
         ]
        },
        "10188": {
         "capacity_mw": 41,
         "esail_id": "EDINW",
         "fuel_type": "wind",
         "gppd_idnr": "GBR0004674",
         "latitude": 57.27904300000001,
         "longitude": -6.229248,
         "name": "Edinbane Windfarm",
         "sett_bmu_id": [
          "T_EDINW-1"
         ]
        },
        "10189": {
         "esail_id": "EWHLW",
         "fuel_type": "wind",
         "latitude": 55.228662,
         "longitude": -3.205105,
         "name": "Ewe Hill II Wind Farm",
         "sett_bmu_id": [
          "T_EWHLW-1"
         ]
        },
        "10190": {
         "capacity_mw": 144,
         "esail_id": "FALGW",
         "fuel_type": "wind",
         "gppd_idnr": "GBR0004059",
         "latitude": 55.93689499999999,
         "longitude": -2.768555,
         "name": "Fallago Rig Wind Farm",
         "sett_bmu_id": [
          "T_FALGW-1"
         ]
        },
        "10191": {
         "capacity_mw": 92,
         "esail_id": "FARR",
         "fuel_type": "wind",
         "gppd_idnr": "GBR0004676",
         "latitude": 57.325,
         "longitude": -4.094167,
         "name": "Farr Wind Farm",
         "sett_bmu_id": [
          "T_FARR-1",
          "T_FARR-2"
         ]
        },
        "10192": {
         "esail_id": "FSDLW",
         "fuel_type": "wind",
         "latitude": 55.780803000000006,
         "longitude": -5.479858999999999,
         "name": "Freasdail Wind Farm",
         "sett_bmu_id": [
          "T_FSDLW-1"
         ]
        },
        "10193": {
         "capacity_mw": 66,
         "esail_id": "GLWSW",
         "fuel_type": "wind",
         "gppd_idnr": "GBR0004368",
         "latitude": 55.534273,
         "longitude": -3.921928,
         "name": "Galawhistle Wind Farm",
         "sett_bmu_id": [
          "T_GLWSW-1"
         ]
        },
        "10194": {
         "esail_id": "GANW",
         "fuel_type": "wind",
         "latitude": 51.893,
         "longitude": 2.035,
         "name": "Galloper Offshore Windfarm 1",
         "sett_bmu_id": [
          "T_GANW-11",
          "T_GANW-13",
          "T_GANW-22",
          "T_GANW-24"
         ]
        },
        "10195": {
         "esail_id": "GNAPW",
         "fuel_type": "wind",
         "latitude": 55.021378000000006,
         "longitude": -5.026858,
         "name": "Glen App Wind Farm",
         "sett_bmu_id": [
          "T_GNAPW-1"
         ]
        },
        "10196": {
         "esail_id": "GLCHW",
         "fuel_type": "wind",
         "latitude": 54.96341999999999,
         "longitude": -4.754334,
         "name": "Glenchamber Wind Farm",
         "sett_bmu_id": [
          "E_GLCHW-1"
         ]
        },
        "10197": {
         "esail_id": "GLOFW",
         "fuel_type": "wind",
         "latitude": 57.219608,
         "longitude": -2.878418,
         "name": "Glens of Foudland",
         "sett_bmu_id": [
          "E_GLOFW-1"
         ]
        },
        "10198": {
         "esail_id": "GFLDW",
         "fuel_type": "wind",
         "latitude": 53.668356,
         "longitude": -0.8724209999999999,
         "name": "Goole Fields 1 Windfarm",
         "sett_bmu_id": [
          "E_GFLDW-1"
         ]
        },
        "10199": {
         "capacity_mw": 70,
         "esail_id": "GORDW",
         "fuel_type": "wind",
         "gppd_idnr": "GBR0003662",
         "latitude": 58.066256,
         "longitude": -3.834229,
         "name": "Gordonbush Wind Farm",
         "sett_bmu_id": [
          "T_GORDW-1"
         ]
        },
        "10200": {
         "esail_id": "GDSTW",
         "fuel_type": "wind",
         "latitude": 57.460944,
         "longitude": -2.484139,
         "name": "Gordonstown Windfarm",
         "sett_bmu_id": [
          "E_GDSTW-1"
         ]
        },
        "10201": {
         "capacity_mw": 504,
         "esail_id": "GRGBW",
         "fuel_type": "wind",
         "gppd_idnr": "GBR0002510",
         "latitude": 52.066,
         "longitude": 1.7138669999999998,
         "name": "Greater Gabbard Offshore Windfarm",
         "sett_bmu_id": [
          "T_GRGBW-1",
          "T_GRGBW-2",
          "T_GRGBW-3"
         ]
        },
        "10202": {
         "capacity_mw": 188.6,
         "esail_id": "GRIFW",
         "fuel_type": "wind",
         "gppd_idnr": "GBR0004028",
         "latitude": 56.529199,
         "longitude": -3.394775,
         "name": "Griffin Wind Farm",
         "sett_bmu_id": [
          "T_GRIFW-1",
          "T_GRIFW-2"
         ]
        },
        "10203": {
         "capacity_mw": 12,
         "esail_id": "GNFSW0",
         "fuel_type": "wind",
         "gppd_idnr": "GBR0002488",
         "latitude": 51.739444,
         "longitude": 1.174444,
         "name": "Gunfleet Sands Demo  3",
         "sett_bmu_id": [
          "E_GNFSW-3"
         ]
        },
        "10204": {
         "capacity_mw": 108,
         "esail_id": "GNFSW1",
         "fuel_type": "wind",
         "gppd_idnr": "GBR0002490",
         "latitude": 51.739444,
         "longitude": 1.174444,
         "name": "Gunfleet Sands Windfarm  1",
         "sett_bmu_id": [
          "E_GNFSW-1",
          "T_GNFSW-1"
         ]
        },
        "10205": {
         "capacity_mw": 65,
         "esail_id": "GNFSW2",
         "fuel_type": "wind",
         "gppd_idnr": "GBR0002489",
         "latitude": 51.739444,
         "longitude": 1.174444,
         "name": "Gunfleet Sands Windfarm  2",
         "sett_bmu_id": [
          "E_GNFSW-2",
          "T_GNFSW-2"
         ]
        },
        "10206": {
         "capacity_mw": 576,
         "esail_id": "GYMRW",
         "fuel_type": "wind",
         "gppd_idnr": "GBR0002543",
         "latitude": 53.459,
         "longitude": -3.584,
         "name": "Gwynt y Mor Offshore Wind Farm",
         "sett_bmu_id": [
          "T_GYMRW-1",
          "T_GYMRW-2"
         ]
        },
        "10207": {
         "esail_id": "GYMR",
         "fuel_type": "wind",
         "latitude": 53.376775,
         "longitude": -3.944092,
         "name": "Gwynt y Mor Wind Farm East 1",
         "sett_bmu_id": [
          "T_GYMR-15",
          "T_GYMR-17",
          "T_GYMR-26",
          "T_GYMR-28"
         ]
        },
        "10208": {
         "capacity_mw": 119.6,
         "esail_id": "HADHW",
         "fuel_type": "wind",
         "gppd_idnr": "GBR0003109",
         "latitude": 55.247815,
         "longitude": -4.702148,
         "name": "Hadyard Hill Wind Farm",
         "sett_bmu_id": [
          "T_HADHW-1"
         ]
        },
        "10209": {
         "capacity_mw": 51.7,
         "esail_id": "HBHDW",
         "fuel_type": "wind",
         "gppd_idnr": "GBR0004225",
         "latitude": 55.815259,
         "longitude": -3.547456,
         "name": "Harburnhead Wind Farm",
         "sett_bmu_id": [
          "E_HBHDW-1"
         ]
        },
        "10210": {
         "esail_id": "HRHLW",
         "fuel_type": "wind",
         "latitude": 55.405691,
         "longitude": -4.054104,
         "name": "Hare Hill Extension Wind Farm",
         "sett_bmu_id": [
          "E_HRHLW-1"
         ]
        },
        "10211": {
         "capacity_mw": 136,
         "esail_id": "HRSTW",
         "fuel_type": "wind",
         "gppd_idnr": "GBR0004119",
         "latitude": 55.229023,
         "longitude": -3.636475,
         "name": "Harestanes Windfarm",
         "sett_bmu_id": [
          "T_HRSTW-1"
         ]
        },
        "10212": {
         "esail_id": "HLGLW",
         "fuel_type": "wind",
         "latitude": 57.51051999999999,
         "longitude": -3.615587,
         "name": "Hill of Glaschyle Windfarm",
         "sett_bmu_id": [
          "E_HLGLW-1"
         ]
        },
        "10213": {
         "capacity_mw": 48.3,
         "esail_id": "HLTWW",
         "fuel_type": "wind",
         "gppd_idnr": "GBR0004014",
         "latitude": 57.486309,
         "longitude": -2.406006,
         "name": "Hill of Towie Windfarm ",
         "sett_bmu_id": [
          "E_HLTWW-1"
         ]
        },
        "10214": {
         "capacity_mw": 219,
         "esail_id": "HMGTO",
         "fuel_type": "wind",
         "gppd_idnr": "GBR0002544",
         "latitude": 53.644,
         "longitude": 0.293,
         "name": "Humber Offshore Wind Farm",
         "sett_bmu_id": [
          "T_HMGTO-1",
          "T_HMGTO-2"
         ]
        },
        "10215": {
         "esail_id": "HYWDW",
         "fuel_type": "wind",
         "latitude": 57.483,
         "longitude": -1.35,
         "name": "Hywind Generator 1",
         "sett_bmu_id": [
          "E_HYWDW-1"
         ]
        },
        "10216": {
         "esail_id": "KTHLW",
         "fuel_type": "wind",
         "latitude": 55.817272,
         "longitude": -2.825456,
         "name": "Keith Hill Windfarm",
         "sett_bmu_id": [
          "T_KTHLW-1"
         ]
        },
        "10217": {
         "capacity_mw": 47.5,
         "esail_id": "KILBW",
         "fuel_type": "wind",
         "gppd_idnr": "GBR0003202",
         "name": "Kilbraur Windfarm",
         "sett_bmu_id": [
          "T_KILBW-1"
         ]
        },
        "10218": {
         "esail_id": "KLGLW",
         "fuel_type": "wind",
         "latitude": 55.05,
         "longitude": -4.765280000000001,
         "name": "Kilgallioch Wind Farm",
         "sett_bmu_id": [
          "T_KLGLW-1"
         ]
        },
        "10219": {
         "capacity_mw": 270,
         "esail_id": "LNCSW",
         "fuel_type": "wind",
         "gppd_idnr": "GBR0002513",
         "latitude": 53.265213,
         "longitude": 0.5273439999999999,
         "name": "Lincs Offshore Wind Farm",
         "sett_bmu_id": [
          "T_LNCSW-1",
          "T_LNCSW-2",
          "T_LNCSW-3"
         ]
        },
        "10220": {
         "capacity_mw": 69,
         "esail_id": "LCLTW",
         "fuel_type": "wind",
         "gppd_idnr": "GBR0004123",
         "latitude": 57.73935,
         "longitude": -4.559326,
         "name": "Lochluichart Windfarm",
         "sett_bmu_id": [
          "T_LCLTW-1"
         ]
        },
        "10221": {
         "capacity_mw": 630,
         "esail_id": "LARYW",
         "fuel_type": "wind",
         "gppd_idnr": "GBR0002511",
         "latitude": 51.645294,
         "longitude": 1.362305,
         "name": "London Array Windfarm",
         "sett_bmu_id": [
          "T_LARYW-1",
          "T_LARYW-2",
          "T_LARYW-3",
          "T_LARYW-4"
         ]
        },
        "10222": {
         "capacity_mw": 56,
         "esail_id": "MKHLW",
         "fuel_type": "wind",
         "gppd_idnr": "GBR0003260",
         "latitude": 55.160043,
         "longitude": -4.822998,
         "name": "Mark Hill Windfarm",
         "sett_bmu_id": [
          "T_MKHLW-1"
         ]
        },
        "10223": {
         "capacity_mw": 57.5,
         "esail_id": "PSTAT002",
         "fuel_type": "wind",
         "gppd_idnr": "GBR0004667",
         "latitude": 56.964685,
         "longitude": -2.482026,
         "name": "Mid Hill Windfarm",
         "sett_bmu_id": [
          "2__PSTAT002"
         ]
        },
        "10224": {
         "capacity_mw": 40,
         "esail_id": "MILWW",
         "fuel_type": "wind",
         "gppd_idnr": "GBR0004682",
         "latitude": 57.219608,
         "longitude": -4.866943,
         "name": "Millennium Wind Farm",
         "sett_bmu_id": [
          "T_MILWW-1"
         ]
        },
        "10225": {
         "esail_id": "MYGPW",
         "fuel_type": "wind",
         "latitude": 55.248768000000005,
         "longitude": -3.5148019999999995,
         "name": "Minnygap Wind Farm",
         "sett_bmu_id": [
          "T_MYGPW-1"
         ]
        },
        "10226": {
         "capacity_mw": 36.8,
         "esail_id": "MINSW",
         "fuel_type": "wind",
         "gppd_idnr": "GBR0004517",
         "latitude": 55.040614,
         "longitude": -3.47168,
         "name": "Minsca Wind Farm",
         "sett_bmu_id": [
          "E_MINSW-1"
         ]
        },
        "10227": {
         "esail_id": "MOYE",
         "fuel_type": "wind",
         "latitude": 57.390303,
         "longitude": -4.064872,
         "name": "Moy Windfarm",
         "sett_bmu_id": [
          "E_MOYE-1"
         ]
        },
        "10228": {
         "capacity_mw": 60,
         "esail_id": "MOYEW",
         "fuel_type": "wind",
         "gppd_idnr": "GBR0003647",
         "latitude": 57.39099399999999,
         "longitude": -4.052356,
         "name": "Moy Windfarm",
         "sett_bmu_id": [
          "E_MOYEW-1"
         ]
        },
        "10229": {
         "capacity_mw": 150,
         "esail_id": "OMNDW",
         "fuel_type": "wind",
         "gppd_idnr": "GBR0002509",
         "latitude": 54.1,
         "longitude": -3.4,
         "name": "Ormonde Windfarm",
         "sett_bmu_id": [
          "E_OMNDW-1",
          "T_OMNDW-1"
         ]
        },
        "10230": {
         "esail_id": "OMNDD",
         "fuel_type": "wind",
         "latitude": 54.1,
         "longitude": -3.4,
         "name": "Ormonde Windfarm Demand",
         "sett_bmu_id": [
          "E_OMNDD-1"
         ]
        },
        "10231": {
         "capacity_mw": 64,
         "esail_id": "PPGEN002",
         "fuel_type": "wind",
         "gppd_idnr": "GBR0004687",
         "latitude": 57.451933,
         "longitude": -3.458196,
         "name": "Pauls Hill Windfarm",
         "sett_bmu_id": [
          "2__PPGEN002"
         ]
        },
        "10232": {
         "capacity_mw": 228,
         "esail_id": "PNYCW",
         "fuel_type": "wind",
         "gppd_idnr": "GBR0004595",
         "latitude": 51.710658,
         "longitude": -3.561358,
         "name": "Pen y Cymoedd Wind Farm",
         "sett_bmu_id": [
          "T_PNYCW-1"
         ]
        },
        "10233": {
         "capacity_mw": 286.5,
         "esail_id": "RCBKO",
         "fuel_type": "wind",
         "gppd_idnr": "GBR0002515",
         "latitude": 53.276,
         "longitude": 0.841,
         "name": "Race Bank Offshore Wind Farm",
         "sett_bmu_id": [
          "T_RCBKO-1",
          "T_RCBKO-2"
         ]
        },
        "10234": {
         "esail_id": "RMPNO",
         "fuel_type": "wind",
         "latitude": 50.67,
         "longitude": -0.27,
         "name": "Rampion Offshore Windfarm",
         "sett_bmu_id": [
          "T_RMPNO-1",
          "T_RMPNO-2"
         ]
        },
        "10235": {
         "capacity_mw": 90,
         "esail_id": "RREW",
         "fuel_type": "wind",
         "gppd_idnr": "GBR0002496",
         "latitude": 54.75,
         "longitude": -3.716667,
         "name": "Robin Rigg East",
         "sett_bmu_id": [
          "T_RREW-1"
         ]
        },
        "10236": {
         "capacity_mw": 90,
         "esail_id": "RRWW",
         "fuel_type": "wind",
         "gppd_idnr": "GBR0002497",
         "latitude": 54.75,
         "longitude": -3.716667,
         "name": "Robin Rigg West",
         "sett_bmu_id": [
          "T_RRWW-1"
         ]
        },
        "10237": {
         "capacity_mw": 51,
         "esail_id": "PPGEN001",
         "fuel_type": "wind",
         "gppd_idnr": "GBR0003534",
         "latitude": 57.504968000000005,
         "longitude": -3.063895,
         "name": "Rothes (Cairn Uish) Wind Farm",
         "sett_bmu_id": [
          "2__PPGEN001"
         ]
        },
        "10238": {
         "esail_id": "SANQW",
         "fuel_type": "wind",
         "latitude": 55.322673,
         "longitude": -4.023363,
         "name": "Sanquhar Community Wind Farm Generation",
         "sett_bmu_id": [
          "T_SANQW-1"
         ]
        },
        "10239": {
         "capacity_mw": 316,
         "esail_id": "SHRSW",
         "fuel_type": "wind",
         "gppd_idnr": "GBR0002512",
         "latitude": 53.135,
         "longitude": 1.147,
         "name": "Sheringham Shoals Windfarm  1",
         "sett_bmu_id": [
          "E_SHRSW-1",
          "T_SHRSW-1",
          "E_SHRSW-2",
          "T_SHRSW-2"
         ]
        },
        "10240": {
         "capacity_mw": 67.65,
         "esail_id": "STRNW",
         "fuel_type": "wind",
         "gppd_idnr": "GBR0004625",
         "latitude": 58.385271,
         "longitude": -3.89086,
         "name": "Strathy North Wind Farm 1",
         "sett_bmu_id": [
          "T_STRNW-1"
         ]
        },
        "10241": {
         "esail_id": "THNTW",
         "fuel_type": "wind",
         "latitude": 51.4306,
         "longitude": 1.6331,
         "name": "Thanet Offshore Wind",
         "sett_bmu_id": [
          "E_THNTW-2",
          "E_THNTW-1"
         ]
        },
        "10242": {
         "capacity_mw": 300,
         "esail_id": "THNTO",
         "fuel_type": "wind",
         "gppd_idnr": "GBR0002499",
         "latitude": 51.385495,
         "longitude": 1.461182,
         "name": "Thanet Offshore Windfarm",
         "sett_bmu_id": [
          "T_THNTO-1",
          "T_THNTO-2"
         ]
        },
        "10243": {
         "esail_id": "TDBNW",
         "fuel_type": "wind",
         "latitude": 55.77,
         "longitude": -2.81,
         "name": "Toddleburn Wind Farm",
         "sett_bmu_id": [
          "T_TDBNW-1"
         ]
        },
        "10244": {
         "esail_id": "TULWW",
         "fuel_type": "wind",
         "latitude": 56.662265000000005,
         "longitude": -2.581787,
         "name": "Tullo",
         "sett_bmu_id": [
          "E_TULWW-1",
          "E_TULWW-2"
         ]
        },
        "10245": {
         "esail_id": "WLNYO",
         "fuel_type": "wind",
         "latitude": 53.981935,
         "longitude": -3.603516,
         "name": "Walney Offshore Windfarm (Extension)",
         "sett_bmu_id": [
          "T_WLNYO-3",
          "T_WLNYO-4",
          "T_WLNYO-2"
         ]
        },
        "10246": {
         "capacity_mw": 184,
         "esail_id": "WLNYW1",
         "fuel_type": "wind",
         "gppd_idnr": "GBR0002500",
         "latitude": 54.044,
         "longitude": -3.522,
         "name": "Walney Offshore Windfarm  1",
         "sett_bmu_id": [
          "T_WLNYW-1"
         ]
        },
        "10247": {
         "capacity_mw": 184,
         "esail_id": "WLNYW2",
         "fuel_type": "wind",
         "gppd_idnr": "GBR0002506",
         "latitude": 54.044,
         "longitude": -3.522,
         "name": "Walney Offshore Windfarm  2",
         "sett_bmu_id": [
          "E_WLNYW-2"
         ]
        },
        "10248": {
         "capacity_mw": 210,
         "esail_id": "WTMSO",
         "fuel_type": "wind",
         "gppd_idnr": "GBR0002545",
         "latitude": 53.943155,
         "longitude": 0.6811520000000001,
         "name": "Westermost Rough Windfarm",
         "sett_bmu_id": [
          "T_WTMSO-1"
         ]
        },
        "10249": {
         "esail_id": "WTMSD",
         "fuel_type": "wind",
         "latitude": 53.805,
         "longitude": 0.149,
         "name": "Westermost Rough Windfarm Onshore Demand",
         "sett_bmu_id": [
          "T_WTMSD-1"
         ]
        },
        "10250": {
         "capacity_mw": 389,
         "esail_id": "WDNSO",
         "fuel_type": "wind",
         "gppd_idnr": "GBR0002519",
         "latitude": 53.923751,
         "longitude": -3.768311,
         "name": "West of Duddon Sands",
         "sett_bmu_id": [
          "T_WDNSO-1",
          "T_WDNSO-2"
         ]
        },
        "10251": {
         "esail_id": "WDNSW",
         "fuel_type": "wind",
         "latitude": 53.983,
         "longitude": -3.463,
         "name": "West of Duddon Sands",
         "sett_bmu_id": [
          "T_WDNSW-1",
          "T_WDNSW-2"
         ]
        },
        "10252": {
         "capacity_mw": 322,
         "esail_id": "WHILW1",
         "fuel_type": "wind",
         "gppd_idnr": "GBR0003489",
         "latitude": 55.702355,
         "longitude": -4.042969,
         "name": "Whitelee Wind Farm",
         "sett_bmu_id": [
          "T_WHILW-1"
         ]
        },
        "10253": {
         "capacity_mw": 217.02,
         "esail_id": "WHILW2",
         "fuel_type": "wind",
         "gppd_idnr": "GBR0003981",
         "latitude": 55.702355,
         "longitude": -4.042969,
         "name": "Whitelee Windfarm Extension",
         "sett_bmu_id": [
          "T_WHILW-2"
         ]
        },
        "10277": {
         "esail_id": "CRGTW",
         "fuel_type": "wind",
         "sett_bmu_id": [
          "E_CRGTW-1"
         ]
        },
        "10284": {
         "esail_id": "STLGW",
         "fuel_type": "wind",
         "latitude": 57.09986899999999,
         "longitude": -4.461346,
         "name": "Stronelairg Windfarm",
         "sett_bmu_id": [
          "T_STLGW-1",
          "T_STLGW-2"
         ]
        }
       }
      ],
      "text/plain": [
       "<IPython.core.display.JSON object>"
      ]
     },
     "execution_count": 57,
     "metadata": {
      "application/json": {
       "expanded": false,
       "root": "root"
      }
     },
     "output_type": "execute_result"
    }
   ],
   "source": [
    "def check_nan(val):\n",
    "    try:\n",
    "        is_nan = np.isnan(val)\n",
    "    except:\n",
    "        is_nan = False\n",
    "    \n",
    "    return is_nan\n",
    "\n",
    "remove_dict_nan_val = lambda dict_: {k: v for k, v in dict_.items() if check_nan(v)==False}\n",
    "sett_bmu_ids_to_list = lambda dict_: {k: v.split(', ') if k=='sett_bmu_id' else v for k, v in dict_.items()}\n",
    "\n",
    "df_wind = df_power_dict.query('fuel_type==\"wind\"')\n",
    "\n",
    "wfs = [sett_bmu_ids_to_list(remove_dict_nan_val(wf)) for wf in df_wind.to_dict(orient='records')]\n",
    "osuked_id_to_wf = dict(zip(df_wind.index, wfs))\n",
    "\n",
    "JSON([osuked_id_to_wf])"
   ]
  },
  {
   "cell_type": "markdown",
   "id": "infrared-spare",
   "metadata": {},
   "source": [
    "<br>\n",
    "\n",
    "### Saving Data"
   ]
  },
  {
   "cell_type": "code",
   "execution_count": 59,
   "id": "editorial-packing",
   "metadata": {},
   "outputs": [],
   "source": [
    "for osuked_id, wf in osuked_id_to_wf.items():\n",
    "    with open(f'{wind_farms_dir}/{osuked_id}.json', 'w') as fp:\n",
    "        json.dump(wf, fp)"
   ]
  },
  {
   "cell_type": "code",
   "execution_count": null,
   "id": "empty-vietnamese",
   "metadata": {},
   "outputs": [],
   "source": []
  },
  {
   "cell_type": "code",
   "execution_count": null,
   "id": "opposite-registration",
   "metadata": {},
   "outputs": [],
   "source": []
  },
  {
   "cell_type": "code",
   "execution_count": null,
   "id": "northern-norway",
   "metadata": {},
   "outputs": [],
   "source": []
  }
 ],
 "metadata": {
  "kernelspec": {
   "display_name": "wind-farms",
   "language": "python",
   "name": "wind-farms"
  },
  "language_info": {
   "codemirror_mode": {
    "name": "ipython",
    "version": 3
   },
   "file_extension": ".py",
   "mimetype": "text/x-python",
   "name": "python",
   "nbconvert_exporter": "python",
   "pygments_lexer": "ipython3",
   "version": "3.7.10"
  }
 },
 "nbformat": 4,
 "nbformat_minor": 5
}
